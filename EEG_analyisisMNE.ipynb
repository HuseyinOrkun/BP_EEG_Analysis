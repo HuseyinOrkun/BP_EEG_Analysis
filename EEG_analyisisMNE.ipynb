{
 "cells": [
  {
   "cell_type": "code",
   "execution_count": 1,
   "id": "48f32f12-e7b7-4213-9bfc-205252bc9551",
   "metadata": {},
   "outputs": [],
   "source": [
    "import mne\n",
    "import matplotlib.pyplot as plt\n",
    "import matplotlib\n",
    "%matplotlib qt\n"
   ]
  },
  {
   "cell_type": "code",
   "execution_count": 2,
   "id": "e15fb7e8-efe7-4856-9bb9-f87869570e70",
   "metadata": {},
   "outputs": [
    {
     "name": "stdout",
     "output_type": "stream",
     "text": [
      "Extracting parameters from /Users/huseyinelmas/CCNLAB/BioPrediction/EEG_data/sezan3_17_05/eeg/bp-eeg-pilot-00016sezan1705.vhdr...\n",
      "Setting channel info structure...\n"
     ]
    }
   ],
   "source": [
    "vhdr_fname = \"/Users/huseyinelmas/CCNLAB/BioPrediction/EEG_data/sezan3_17_05/eeg/bp-eeg-pilot-00016sezan1705.vhdr\"\n",
    "raw = mne.io.read_raw_brainvision(vhdr_fname, misc='auto', scale=1.0, preload=False, verbose=None)"
   ]
  },
  {
   "cell_type": "code",
   "execution_count": null,
   "id": "e56730e7-9cfd-471b-bcf4-6b1cca9bc889",
   "metadata": {},
   "outputs": [],
   "source": []
  },
  {
   "cell_type": "code",
   "execution_count": null,
   "id": "3373c6eb-ec80-4941-a8e6-45eac95e76ff",
   "metadata": {},
   "outputs": [],
   "source": [
    "event_dict = {\"Congruent/Left/Walk\":'S 11',\"Congruent/Left/Kick\":'S 12', \"Congruent/Right/Walk\":'S 13', \"Congruent/Right/Kick\":14, \n",
    "              \"Incongruent/Left/Walk\":'S 21', \"Incongruent/Left/Kick\":22,\"Incongruent/Right/Walk\":23,\"Incongruent/Right/Kick\": 24,\n",
    "              \"Neutral/Left/Walk\":31,\"Neutral/Left/Kick\":32, \"Neutral/Right/Walk\":33, \"Neutral/Right/Kick\":34,\n",
    "              \"Congruent/Left/Walk/Correct\":51,\"Congruent/Left/Walk/Incorrect\":52,\"Congruent/Left/Kick/Correct\":53,\"Congruent/Left/Kick/Incorrect\":54, \n",
    "              \"Congruent/Right/Walk/Correct\":55,\"Congruent/Right/Walk/Incorrect\":56, \"Congruent/Right/Kick/Correct\":57, \"Congruent/Right/Kick/Incorrect\":58,\n",
    "             \"Incongruent/Left/Walk/Correct\":61,\"Incongruent/Left/Walk/Incorrect\":62,\"Incongruent/Left/Kick/Correct\":63,\"Incongruent/Left/Kick/Incorrect\":64, \n",
    "              \"Incongruent/Right/Walk/Correct\":65,\"Incongruent/Right/Walk/Incorrect\":66, \"Incongruent/Right/Kick/Correct\":67, \n",
    "             \"Neutral/Left/Walk/Correct\":71,\"Neutral/Left/Walk/Incorrect\":72,\"Neutral/Left/Kick/Correct\":73,\"Neutral/Left/Kick/Incorrect\":74, \n",
    "              \"Neutral/Right/Walk/Correct\":75,\"Neutral/Right/Walk/Incorrect\":76, \"Neutral/Right/Kick/Correct\":77, \"Neutral/Right/Kick/Incorrect\":78};"
   ]
  },
  {
   "cell_type": "code",
   "execution_count": 8,
   "id": "1fbcddf1-4982-4141-bd3e-8123c5d613f0",
   "metadata": {},
   "outputs": [
    {
     "ename": "ValueError",
     "evalue": "Could not find any of the events you specified.",
     "output_type": "error",
     "traceback": [
      "\u001b[0;31m---------------------------------------------------------------------------\u001b[0m",
      "\u001b[0;31mValueError\u001b[0m                                Traceback (most recent call last)",
      "Input \u001b[0;32mIn [8]\u001b[0m, in \u001b[0;36m<cell line: 1>\u001b[0;34m()\u001b[0m\n\u001b[0;32m----> 1\u001b[0m (events_from_annot,event_dict) \u001b[38;5;241m=\u001b[39m \u001b[43mmne\u001b[49m\u001b[38;5;241;43m.\u001b[39;49m\u001b[43mevents_from_annotations\u001b[49m\u001b[43m(\u001b[49m\u001b[43mraw\u001b[49m\u001b[43m,\u001b[49m\u001b[43m \u001b[49m\u001b[43mevent_id\u001b[49m\u001b[38;5;241;43m=\u001b[39;49m\u001b[43mevent_dict\u001b[49m\u001b[43m)\u001b[49m\n\u001b[1;32m      2\u001b[0m \u001b[38;5;28mprint\u001b[39m(event_dict)\n\u001b[1;32m      3\u001b[0m \u001b[38;5;28mprint\u001b[39m(events_from_annot[:\u001b[38;5;241m5\u001b[39m])\n",
      "File \u001b[0;32m<decorator-gen-102>:12\u001b[0m, in \u001b[0;36mevents_from_annotations\u001b[0;34m(raw, event_id, regexp, use_rounding, chunk_duration, verbose)\u001b[0m\n",
      "File \u001b[0;32m~/anaconda3/envs/mne_bp/lib/python3.10/site-packages/mne/annotations.py:1479\u001b[0m, in \u001b[0;36mevents_from_annotations\u001b[0;34m(raw, event_id, regexp, use_rounding, chunk_duration, verbose)\u001b[0m\n\u001b[1;32m   1475\u001b[0m annotations \u001b[38;5;241m=\u001b[39m raw\u001b[38;5;241m.\u001b[39mannotations\n\u001b[1;32m   1477\u001b[0m event_id \u001b[38;5;241m=\u001b[39m _check_event_id(event_id, raw)\n\u001b[0;32m-> 1479\u001b[0m event_sel, event_id_ \u001b[38;5;241m=\u001b[39m \u001b[43m_select_annotations_based_on_description\u001b[49m\u001b[43m(\u001b[49m\n\u001b[1;32m   1480\u001b[0m \u001b[43m    \u001b[49m\u001b[43mannotations\u001b[49m\u001b[38;5;241;43m.\u001b[39;49m\u001b[43mdescription\u001b[49m\u001b[43m,\u001b[49m\u001b[43m \u001b[49m\u001b[43mevent_id\u001b[49m\u001b[38;5;241;43m=\u001b[39;49m\u001b[43mevent_id\u001b[49m\u001b[43m,\u001b[49m\u001b[43m \u001b[49m\u001b[43mregexp\u001b[49m\u001b[38;5;241;43m=\u001b[39;49m\u001b[43mregexp\u001b[49m\u001b[43m)\u001b[49m\n\u001b[1;32m   1482\u001b[0m \u001b[38;5;28;01mif\u001b[39;00m chunk_duration \u001b[38;5;129;01mis\u001b[39;00m \u001b[38;5;28;01mNone\u001b[39;00m:\n\u001b[1;32m   1483\u001b[0m     inds \u001b[38;5;241m=\u001b[39m raw\u001b[38;5;241m.\u001b[39mtime_as_index(annotations\u001b[38;5;241m.\u001b[39monset, use_rounding\u001b[38;5;241m=\u001b[39muse_rounding,\n\u001b[1;32m   1484\u001b[0m                              origin\u001b[38;5;241m=\u001b[39mannotations\u001b[38;5;241m.\u001b[39morig_time)\n",
      "File \u001b[0;32m~/anaconda3/envs/mne_bp/lib/python3.10/site-packages/mne/annotations.py:1334\u001b[0m, in \u001b[0;36m_select_annotations_based_on_description\u001b[0;34m(descriptions, event_id, regexp)\u001b[0m\n\u001b[1;32m   1330\u001b[0m event_sel \u001b[38;5;241m=\u001b[39m [ii \u001b[38;5;28;01mfor\u001b[39;00m ii, kk \u001b[38;5;129;01min\u001b[39;00m \u001b[38;5;28menumerate\u001b[39m(descriptions)\n\u001b[1;32m   1331\u001b[0m              \u001b[38;5;28;01mif\u001b[39;00m kk \u001b[38;5;129;01min\u001b[39;00m event_id_]\n\u001b[1;32m   1333\u001b[0m \u001b[38;5;28;01mif\u001b[39;00m \u001b[38;5;28mlen\u001b[39m(event_sel) \u001b[38;5;241m==\u001b[39m \u001b[38;5;241m0\u001b[39m \u001b[38;5;129;01mand\u001b[39;00m regexp \u001b[38;5;129;01mis\u001b[39;00m \u001b[38;5;129;01mnot\u001b[39;00m \u001b[38;5;28;01mNone\u001b[39;00m:\n\u001b[0;32m-> 1334\u001b[0m     \u001b[38;5;28;01mraise\u001b[39;00m \u001b[38;5;167;01mValueError\u001b[39;00m(\u001b[38;5;124m'\u001b[39m\u001b[38;5;124mCould not find any of the events you specified.\u001b[39m\u001b[38;5;124m'\u001b[39m)\n\u001b[1;32m   1336\u001b[0m \u001b[38;5;28;01mreturn\u001b[39;00m event_sel, event_id_\n",
      "\u001b[0;31mValueError\u001b[0m: Could not find any of the events you specified."
     ]
    }
   ],
   "source": [
    "(events_from_annot,event_dict) = mne.events_from_annotations(raw, event_id=event_dict)\n",
    "print(event_dict)\n",
    "print(events_from_annot[:5])"
   ]
  },
  {
   "cell_type": "code",
   "execution_count": 3,
   "id": "1af38e35-bdf0-4321-a776-47eb7e81a26b",
   "metadata": {},
   "outputs": [
    {
     "name": "stdout",
     "output_type": "stream",
     "text": [
      "<Info | 8 non-empty values\n",
      " bads: []\n",
      " ch_names: Fp1, Fz, F3, F7, FT9, FC5, FC1, C3, T7, TP9, CP5, CP1, Pz, P3, ...\n",
      " chs: 64 EEG\n",
      " custom_ref_applied: False\n",
      " dig: 64 items (64 EEG)\n",
      " highpass: 0.0 Hz\n",
      " lowpass: 250.0 Hz\n",
      " meas_date: 2022-05-17 16:57:10 UTC\n",
      " nchan: 64\n",
      " projs: []\n",
      " sfreq: 1000.0 Hz\n",
      ">\n"
     ]
    }
   ],
   "source": [
    "print(raw.info)"
   ]
  },
  {
   "cell_type": "code",
   "execution_count": 5,
   "id": "c33d3a6a-4c91-449c-97bb-209a874b3738",
   "metadata": {},
   "outputs": [
    {
     "name": "stdout",
     "output_type": "stream",
     "text": [
      "Opening raw-browser...\n",
      "Using pyopengl with version 3.1.6\n"
     ]
    },
    {
     "data": {
      "text/plain": [
       "<mne_qt_browser._pg_figure.MNEQtBrowser at 0x174e449d0>"
      ]
     },
     "execution_count": 5,
     "metadata": {},
     "output_type": "execute_result"
    },
    {
     "name": "stdout",
     "output_type": "stream",
     "text": [
      "Closing raw-browser...\n",
      "Channels marked as bad:\n",
      "none\n"
     ]
    }
   ],
   "source": [
    "raw.plot()"
   ]
  },
  {
   "cell_type": "code",
   "execution_count": null,
   "id": "eca5fcb0-11fc-4e6b-887c-29d51466e21c",
   "metadata": {},
   "outputs": [],
   "source": [
    "raw.plot(duration=5, n_channels=30)"
   ]
  },
  {
   "cell_type": "code",
   "execution_count": null,
   "id": "810a3783-32d7-41d6-a1d1-9f3c02ccd921",
   "metadata": {},
   "outputs": [],
   "source": []
  }
 ],
 "metadata": {
  "kernelspec": {
   "display_name": "bp_mne",
   "language": "python",
   "name": "bp_mne"
  },
  "language_info": {
   "codemirror_mode": {
    "name": "ipython",
    "version": 3
   },
   "file_extension": ".py",
   "mimetype": "text/x-python",
   "name": "python",
   "nbconvert_exporter": "python",
   "pygments_lexer": "ipython3",
   "version": "3.10.4"
  }
 },
 "nbformat": 4,
 "nbformat_minor": 5
}
